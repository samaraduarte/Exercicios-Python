{
 "cells": [
  {
   "cell_type": "markdown",
   "metadata": {
    "colab_type": "text",
    "id": "ZOUPCvOo9d9K"
   },
   "source": [
    "**LISTA DE EXERCÍCIOS**"
   ]
  },
  {
   "cell_type": "markdown",
   "metadata": {
    "colab_type": "text",
    "id": "yhXGbDZ39kMx"
   },
   "source": [
    "EXERCÍCIO 1 - FAÇA UM SCRIPT VERIFIQUE SE UM NÚMERO (*num*) É PAR OU IMPAR:"
   ]
  },
  {
   "cell_type": "code",
   "execution_count": 270,
   "metadata": {
    "colab": {
     "base_uri": "https://localhost:8080/",
     "height": 34
    },
    "colab_type": "code",
    "id": "B6-R9snc92Bo",
    "outputId": "b659d82a-276d-4104-fbcf-9374228817ea"
   },
   "outputs": [
    {
     "name": "stdout",
     "output_type": "stream",
     "text": [
      "44 é par\n"
     ]
    }
   ],
   "source": [
    "import random\n",
    "num = random.randint(1, 100)\n",
    "if (num % 2 == 0):\n",
    "    print(num, 'é par')\n",
    "else:\n",
    "    print(num, 'é impar')\n"
   ]
  },
  {
   "cell_type": "markdown",
   "metadata": {
    "colab_type": "text",
    "id": "eIYJ02BOdacM"
   },
   "source": [
    "EXERCÍCIO 2 - FAÇA UMA SCRIPT QUE CALCULA UMA EXPRESSÃO MATEMÁTICA DADO 2 INTEIROS (*num1, num2 e op*) E UM OPERADOR (String = '+', '-', '*', '/'):"
   ]
  },
  {
   "cell_type": "code",
   "execution_count": 271,
   "metadata": {
    "colab": {
     "base_uri": "https://localhost:8080/",
     "height": 51
    },
    "colab_type": "code",
    "id": "8JEWjI_5_eGr",
    "outputId": "d4b453a4-94ea-4962-a25d-68124f9c31d4"
   },
   "outputs": [
    {
     "name": "stdout",
     "output_type": "stream",
     "text": [
      "57 81 /\n",
      "divisao 0.7037037037037037\n"
     ]
    }
   ],
   "source": [
    "import random\n",
    "num1 = random.randint(0, 100)\n",
    "num2 = random.randint(0, 100)\n",
    "op = ['+', '-', '*', '/'][random.randint(0, 3)]\n",
    "print(num1, num2, op)\n",
    "\n",
    "\n",
    "if (op == '+'):\n",
    "  print('soma', num1 + num2)\n",
    "\n",
    "if (op == '-'):\n",
    "  print('subtracao', num1 - num2)\n",
    "\n",
    "if (op == '*'):\n",
    "  print('multiplicacao',num1 * num2)\n",
    "\n",
    "if (op == '/'):\n",
    "  print('divisao',num1 / num2)\n"
   ]
  },
  {
   "cell_type": "markdown",
   "metadata": {
    "colab_type": "text",
    "id": "-dtLZ8yBKqNv"
   },
   "source": [
    "EXERCÍCIO 3 - FAÇA UM SCRIPT QUE IDENTIFIQUE SE UM NÚMERO INTEIRO (*num*) É PRIMO OU NÃO"
   ]
  },
  {
   "cell_type": "code",
   "execution_count": 282,
   "metadata": {
    "colab": {
     "base_uri": "https://localhost:8080/",
     "height": 51
    },
    "colab_type": "code",
    "id": "HDO-r9oMK4Me",
    "outputId": "e1e673f6-1a12-448e-9d8f-2f2538dadee1"
   },
   "outputs": [
    {
     "name": "stdout",
     "output_type": "stream",
     "text": [
      "18\n",
      "Não é primo\n"
     ]
    }
   ],
   "source": [
    "import random\n",
    "num = random.randint(1, 100)\n",
    "print(num)\n",
    "fator = []\n",
    "for numeros in range(1, num+1):\n",
    "    if num%numeros ==0:\n",
    "        fator.append(numeros)\n",
    "if len(fator) > 2:\n",
    "    print(\"Não é primo\")\n",
    "if len(fator) == 2:\n",
    "    print(\"É primo\")"
   ]
  },
  {
   "cell_type": "markdown",
   "metadata": {
    "colab_type": "text",
    "id": "acGUTrFMSXkM"
   },
   "source": [
    "EXERCÍCIO 4 - FAÇA UM SCRIPT QUER RETORNE DE UMA LISTA DE INTEIROS (*lista*):\n",
    "\n",
    "*   MAIOR ELEMENTO\n",
    "*   MENOR ELEMENTO\n",
    "*   TAMANHO\n",
    "\n",
    "**DESAFIO:** NÃO USE FUNÇÕES *min(), max() e len()*!"
   ]
  },
  {
   "cell_type": "code",
   "execution_count": 273,
   "metadata": {
    "colab": {
     "base_uri": "https://localhost:8080/",
     "height": 102
    },
    "colab_type": "code",
    "id": "i8jlu3EQS_fk",
    "outputId": "3d11b414-3414-4a39-9fcf-e2bce91a6fe0"
   },
   "outputs": [
    {
     "name": "stdout",
     "output_type": "stream",
     "text": [
      "[1, 7, 3, 1, 5]\n",
      "[1, 1, 3, 5, 7]\n",
      "menor:  1\n",
      "maior:  7\n",
      "tamanho:  5\n"
     ]
    }
   ],
   "source": [
    "import random\n",
    "lista = [random.randint(0,10) for i in range(5)]\n",
    "\n",
    "print(lista)\n",
    "ordenada = sorted(lista)\n",
    "print(ordenada)\n",
    "\n",
    "menor = ordenada[0]\n",
    "print('menor: ',menor)\n",
    "\n",
    "maior = ordenada[4]\n",
    "print('maior: ',maior)\n",
    "\n",
    "contador = 0\n",
    "for i in ordenada:\n",
    "     contador = contador + 1\n",
    "print('tamanho: ',contador)"
   ]
  },
  {
   "cell_type": "markdown",
   "metadata": {
    "colab_type": "text",
    "id": "9_Pf0yIgczaK"
   },
   "source": [
    "EXERCÍCIO 5 - FAÇA UM SCRIPT QUE RETORNE DE UMA LISTA DE INTEIROS (*lista*):\n",
    "\n",
    "* A MEDIA\n",
    "* A MEDIANA\n",
    "* A MODA"
   ]
  },
  {
   "cell_type": "code",
   "execution_count": 275,
   "metadata": {
    "colab": {
     "base_uri": "https://localhost:8080/",
     "height": 85
    },
    "colab_type": "code",
    "id": "lGD6zfrRciZ2",
    "outputId": "19dec5c3-eb84-480f-8edb-82b4b35373d2"
   },
   "outputs": [
    {
     "name": "stdout",
     "output_type": "stream",
     "text": [
      "[9, 0, 1, 4, 1]\n",
      "media:  3.0\n",
      "mediana:  1.0\n",
      "moda:  1\n"
     ]
    }
   ],
   "source": [
    "import random\n",
    "import numpy as np\n",
    "import statistics\n",
    "lista = [random.randint(0,10) for i in range(5)]\n",
    "\n",
    "print(lista)\n",
    "\n",
    "media = np.mean(lista)\n",
    "print('media: ',media)\n",
    "\n",
    "mediana = np.median(lista)\n",
    "print('mediana: ',mediana)\n",
    "\n",
    "moda = statistics.mode(lista)\n",
    "print('moda: ',moda)"
   ]
  },
  {
   "cell_type": "markdown",
   "metadata": {
    "colab_type": "text",
    "id": "8yqWYSJLFo7U"
   },
   "source": [
    "EXERCÍCIO 6 - FAÇA UMA FUNÇÃO QUE TENHA COMO ENTRADA UMA LISTA DE INTEIROS (*idades*) E RETORNE UMA LISTA COM AS FAIXAS DE CADA IDADE, DE ACORDO COM AS REGRAS A SEGUIR:<br>\n",
    "* '<18', \n",
    "* '18 A 21', \n",
    "* '21 A 27', \n",
    "* '28 A 35', \n",
    "* '36 A 50', \n",
    "* '50 A 65', \n",
    "* '65+'"
   ]
  },
  {
   "cell_type": "code",
   "execution_count": 276,
   "metadata": {
    "colab": {
     "base_uri": "https://localhost:8080/",
     "height": 173
    },
    "colab_type": "code",
    "id": "KrJWT6mmLX98",
    "outputId": "021f3c77-8c9c-4e5d-b077-2221442e3e9b"
   },
   "outputs": [
    {
     "name": "stdout",
     "output_type": "stream",
     "text": [
      "[38, 85, 57, 74, 51, 64, 44, 73, 86, 60, 83, 83, 21, 83, 19, 62, 83, 81, 10, 24, 95, 60, 70, 48, 55, 50, 57, 15, 14, 53, 87, 83, 19, 53, 92, 86, 42, 76, 34, 82, 92, 66, 66, 35, 41, 39, 66, 74, 70, 64, 83, 78, 89, 67, 36, 56, 95, 41, 34, 22, 83, 44, 56, 49, 24, 75, 21, 10, 5, 94, 38, 13, 44, 26, 90, 73, 17, 94, 39, 15, 84, 42, 90, 52, 66, 50, 36, 11, 36, 61, 41, 89, 40, 74, 10, 82, 37, 85, 29, 76]\n",
      "Menor de 18 anos: [10, 15, 14, 10, 5, 13, 17, 15, 11, 10]\n",
      "Entre 18 e 21 anos: [21, 19, 19, 21]\n",
      "Entre 21 e 27 anos: [24, 22, 24, 26]\n",
      "Entre 28 e 35 anos: [34, 35, 34, 29]\n",
      "Entre 36 e 50 anos: [38, 44, 48, 50, 42, 41, 39, 36, 41, 44, 49, 38, 44, 39, 42, 50, 36, 36, 41, 40, 37]\n",
      "Entre 50 e 65 anos: [57, 51, 64, 60, 62, 60, 55, 57, 53, 53, 64, 56, 56, 52, 61]\n",
      "Mais de 65 anos: [85, 74, 73, 86, 83, 83, 83, 83, 81, 95, 70, 87, 83, 92, 86, 76, 82, 92, 66, 66, 66, 74, 70, 83, 78, 89, 67, 95, 83, 75, 94, 90, 73, 94, 84, 90, 66, 89, 74, 82, 85, 76]\n"
     ]
    }
   ],
   "source": [
    "import random\n",
    "\n",
    "idades = [random.randint(5, 95) for i in range(100)]\n",
    "\n",
    "print(idades)\n",
    "\n",
    "idade18 = []\n",
    "idade18_21 = []\n",
    "idade21_27 = []\n",
    "idade28_35 = []\n",
    "idade36_50 = []\n",
    "idade50_65 = []\n",
    "idade65 = []\n",
    "\n",
    "for i in idades:\n",
    "    if i <18:\n",
    "        idade18 = idade18 + [i]\n",
    "    elif i>18 and i<=21:\n",
    "        idade18_21 = idade18_21 + [i]\n",
    "    elif i>=21 and i<=27:\n",
    "        idade21_27 = idade21_27 + [i]\n",
    "    elif i>=28 and i<=35:\n",
    "        idade28_35 = idade28_35 + [i]\n",
    "    elif i>=36 and i<=50:\n",
    "        idade36_50 = idade36_50 + [i]\n",
    "    elif i>=50 and i<=65:\n",
    "        idade50_65 = idade50_65 + [i]\n",
    "    else:\n",
    "        idade65 = idade65 + [i]\n",
    "        \n",
    "print('Menor de 18 anos:', idade18)\n",
    "print('Entre 18 e 21 anos:', idade18_21)\n",
    "print('Entre 21 e 27 anos:', idade21_27)\n",
    "print('Entre 28 e 35 anos:', idade28_35)\n",
    "print('Entre 36 e 50 anos:', idade36_50)\n",
    "print('Entre 50 e 65 anos:', idade50_65)\n",
    "print('Mais de 65 anos:', idade65)"
   ]
  },
  {
   "cell_type": "markdown",
   "metadata": {
    "colab_type": "text",
    "id": "9GAGi3vNM0lA"
   },
   "source": [
    "EXERCÍCIO 7 - DADA UM LISTA (*cabecalho*) CONTENDO O CABEÇALHO DE UMA TABELA, FAÇA AS SEGUINTES TRANSFORMAÇÕES:<br>\n",
    "* Remova espaços a direita e a esquerda (função \\<string\\>.strip())\n",
    "* Deixe todas a letras maiúsculas (função \\<string\\>.upper())\n",
    "* substitua \" \" (espaços) por \"_\" (função \\<string\\>.replace())"
   ]
  },
  {
   "cell_type": "code",
   "execution_count": 277,
   "metadata": {
    "colab": {
     "base_uri": "https://localhost:8080/",
     "height": 34
    },
    "colab_type": "code",
    "id": "7F71_O5yOFJv",
    "outputId": "07a32b0f-df57-4116-f732-0a6751dbcc4f"
   },
   "outputs": [
    {
     "name": "stdout",
     "output_type": "stream",
     "text": [
      "['NOME', 'IDADE', 'DATA_DE_NASCIMENTO', 'ENDERECO', 'CPF', 'VALOR_DEVIDO', 'VALOR_JA_PAGO']\n"
     ]
    }
   ],
   "source": [
    "cabecalho = [\"nome \", \"IdadE\", \"data de nascimento\", \"endereco\", \" cpf\", \"Valor Devido\", \"Valor ja pago\"]\n",
    "atualizado = [palavra.strip().upper().replace(' ','_') for palavra in cabecalho]\n",
    "print(atualizado)"
   ]
  }
 ],
 "metadata": {
  "colab": {
   "name": "Cópia de Exercícios_Colab.ipynb",
   "provenance": []
  },
  "kernelspec": {
   "display_name": "Python 3",
   "language": "python",
   "name": "python3"
  },
  "language_info": {
   "codemirror_mode": {
    "name": "ipython",
    "version": 3
   },
   "file_extension": ".py",
   "mimetype": "text/x-python",
   "name": "python",
   "nbconvert_exporter": "python",
   "pygments_lexer": "ipython3",
   "version": "3.7.6"
  }
 },
 "nbformat": 4,
 "nbformat_minor": 1
}
