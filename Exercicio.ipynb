{
 "cells": [
  {
   "cell_type": "markdown",
   "metadata": {},
   "source": [
    "## Nome: Samara de Jesus Duarte    "
   ]
  },
  {
   "cell_type": "markdown",
   "metadata": {},
   "source": [
    "1) Crie um programa para calcular a área e o perímetro de um retângulo, com base nas medidas de sua base e de sua\n",
    "altura."
   ]
  },
  {
   "cell_type": "code",
   "execution_count": 1,
   "metadata": {},
   "outputs": [
    {
     "name": "stdout",
     "output_type": "stream",
     "text": [
      "A base é 70 a altura é 90 a area é  6300 e o perimetro é  320\n"
     ]
    }
   ],
   "source": [
    "import random\n",
    "b = random.randint(1, 100)\n",
    "h = random.randint(1, 100)\n",
    "area = b*h\n",
    "perimetro = 2*b + 2*h\n",
    "print('A base é', b ,'a altura é', h , 'a area é ', area, 'e o perimetro é ', perimetro)"
   ]
  },
  {
   "cell_type": "markdown",
   "metadata": {},
   "source": [
    "2) Faça um algoritmo que calcule o que deve ser pago por um produto, considerando o preço normal de\n",
    "etiqueta e a escolha da condição de pagamento. Utilize os códigos da tabela a seguir para ler qual a\n",
    "condição de pagamento escolhida e efetuar o cálculo adequado."
   ]
  },
  {
   "cell_type": "code",
   "execution_count": 2,
   "metadata": {},
   "outputs": [
    {
     "name": "stdout",
     "output_type": "stream",
     "text": [
      "valor: 41 codigo: 1\n",
      "o valor da compra é 41.00 ,com o desconto de 10% o novo valor é 36.90 \n"
     ]
    }
   ],
   "source": [
    "import random\n",
    "preco = random.randint(1,1000)\n",
    "codigo = random.randint(1, 4)\n",
    "print('valor:',preco, 'codigo:',codigo)\n",
    "total = preco\n",
    "if codigo == 1:\n",
    "    preco = preco - (preco / 10) \n",
    "    print('o valor da compra é {:.2f} ,com o desconto de 10% o novo valor é {:.2f} '.format(total,preco))\n",
    "elif codigo == 2:\n",
    "    preco = preco - (5 / 100 * preco)\n",
    "    print('o valor da compra é {:.2f} ,com o desconto de 5% o novo valor é {:.2f} '.format(total,preco))\n",
    "elif codigo == 3:\n",
    "    print('o valor a pagar é ', preco)\n",
    "elif codigo == 4:\n",
    "    preco = preco + (preco / 10)\n",
    "    print('o valor da compra é {:.2f} ,com juros de 10% o novo valor é {:.2f} '.format(total,preco))"
   ]
  },
  {
   "cell_type": "markdown",
   "metadata": {},
   "source": [
    "3) O IMC - Índice de Massa Corporal é um critério da Organização Mundial de Saúde para dar uma indicação de\n",
    "peso de uma pessoa adulta. A fórmula é IMC = peso/(altura)2\n",
    ". Elabore um algoritmo que leia o peso e a altura de\n",
    "um adulto e mostre sua condição"
   ]
  },
  {
   "cell_type": "code",
   "execution_count": 3,
   "metadata": {},
   "outputs": [
    {
     "name": "stdout",
     "output_type": "stream",
     "text": [
      "digite seu peso: 60\n",
      "digite sua altura: 1.77\n",
      "Seu IMC é 19.2\n",
      "voce esta com o peso ideal!\n"
     ]
    }
   ],
   "source": [
    "peso = float(input('digite seu peso: '))\n",
    "altura = float(input('digite sua altura: '))\n",
    "imc = peso/(altura * altura)\n",
    "print('Seu IMC é {:.1f}'.format(imc))\n",
    "\n",
    "if imc < 18.5:\n",
    "    print('voce esta abaixo do peso ideal!')\n",
    "elif imc > 18.5 and imc < 25:\n",
    "    print('voce esta com o peso ideal!')\n",
    "elif imc > 25 and imc < 30:\n",
    "    print('voce esta acima do peso!')\n",
    "elif imc > 30:\n",
    "    print('voce esta obeso!')"
   ]
  },
  {
   "cell_type": "markdown",
   "metadata": {},
   "source": [
    "4) Faça um algoritmo que informe o mês de acordo com o número digitado pelo usuário. Exemplo: Entrada = 4.\n",
    "Saída = Abril.\n"
   ]
  },
  {
   "cell_type": "code",
   "execution_count": 4,
   "metadata": {},
   "outputs": [
    {
     "name": "stdout",
     "output_type": "stream",
     "text": [
      "digite um numero : 7\n",
      "o nome do mes correspondente ao numero 7 em ingles é July\n"
     ]
    }
   ],
   "source": [
    "import datetime\n",
    "try:\n",
    "    numero = int(input('digite um numero : '))\n",
    "    nome = datetime.date(1900, numero, 1).strftime('%B')\n",
    "    print('o nome do mes correspondente ao numero',numero, 'em ingles é',nome)\n",
    "except ValueError:\n",
    "    print('numero invalido')"
   ]
  },
  {
   "cell_type": "markdown",
   "metadata": {},
   "source": [
    "5) Faça um programa que receba dois números e execute as operações listadas a seguir, de acordo com a escolha do\n",
    "usuário."
   ]
  },
  {
   "cell_type": "code",
   "execution_count": 5,
   "metadata": {},
   "outputs": [
    {
     "name": "stdout",
     "output_type": "stream",
     "text": [
      "digite o primeiro numero: 5\n",
      "digite o segundo numero: 0\n",
      "digite: 1 p/ media, 2 p/ diferenca, 3 p/ produto ou 4 p/ subtracao 4\n",
      "Não é possivel dividir por zero!\n"
     ]
    }
   ],
   "source": [
    "while True:\n",
    "    try:\n",
    "        n1 = float(input('digite o primeiro numero: '))\n",
    "        break\n",
    "    except ValueError:\n",
    "        print('Digite um numero valido!')\n",
    "while True:\n",
    "    try:\n",
    "        n2 = float(input('digite o segundo numero: '))\n",
    "        break\n",
    "    except ValueError:\n",
    "        print('Digite um numero valido!')    \n",
    "opcao = 0\n",
    "while True:\n",
    "    try:\n",
    "        opcao = float(input('digite: 1 p/ media, 2 p/ diferenca, 3 p/ produto ou 4 p/ subtracao '))\n",
    "        if opcao == 1:\n",
    "            media = (n1+n2)/2\n",
    "            print('a media é {:.1f}'.format(media))\n",
    "        if opcao == 2:\n",
    "            lista = [n1,n2]\n",
    "            num1 = max(lista)\n",
    "            num2 = min(lista)\n",
    "            operacao = num1 - num2\n",
    "            print('a diferenca é {:.1f}'.format(operacao))\n",
    "        if opcao == 3:\n",
    "            produto = n1 * n2\n",
    "            print('o produto é {:.1f}'.format(produto))\n",
    "        if opcao == 4:\n",
    "            if n2 == 0:\n",
    "                print('Não é possivel dividir por zero!')\n",
    "            else:\n",
    "                produto = n1 / n2\n",
    "                print('a divisao é {:.1f}'.format(produto))\n",
    "        if opcao != 1 and opcao != 2 and opcao != 3 and opcao != 4:\n",
    "                    print('opcao invalida! tente um numero de 1 a 4!')\n",
    "        break\n",
    "    except ValueError:\n",
    "         print('opcao invalida!')"
   ]
  },
  {
   "cell_type": "markdown",
   "metadata": {},
   "source": [
    "6) Escreva um programa que seja capaz de ler do teclado 31 valores reais correspondentes ao índice pluviométrico\n",
    "diário de um mês. O programa deve determinar o índice pluviométrico médio, o índice pluviométrico máximo e o\n",
    "dia de ocorrência."
   ]
  },
  {
   "cell_type": "code",
   "execution_count": 7,
   "metadata": {},
   "outputs": [
    {
     "name": "stdout",
     "output_type": "stream",
     "text": [
      "Digite o registro do dia: 3\n",
      "Digite o registro do dia: 2\n",
      "Digite o registro do dia: 1\n",
      "Índice pluviométrico médio:  2.0\n",
      "Índice pluviométrico máximo: 3 referente ao dia:  1\n"
     ]
    }
   ],
   "source": [
    "dicionario = dict()\n",
    "\n",
    "i = 1\n",
    "while i <= 31:\n",
    "    dicionario[i] = (input('Digite o registro do dia: '))\n",
    "    i = i + 1\n",
    "\n",
    "lista = dicionario.values()\n",
    "maximo = max(lista)\n",
    "    \n",
    "for i, j in dicionario.items():\n",
    "    if j == maximo:\n",
    "        dia = i\n",
    "        \n",
    "##Calculando a média\n",
    "lista2 = []\n",
    "for i in lista:\n",
    "    lista2 = lista2 + [int(i)]\n",
    "\n",
    "soma = sum(lista2)\n",
    "tamanho = len(lista)\n",
    "media = soma/tamanho\n",
    "\n",
    "print('Índice pluviométrico médio: ', media)\n",
    "print('Índice pluviométrico máximo:', maximo, 'referente ao dia: ', dia)\n"
   ]
  },
  {
   "cell_type": "markdown",
   "metadata": {},
   "source": [
    "#### 7) Uma pesquisa sobre algumas características físicas da população de uma determinada região coletou dados,\n",
    "referentes a cada habitante, para serem analisados:\n",
    " Sexo (m ou f)\n",
    " Cor dos olhos (azuis, verdes, castanhos)\n",
    " Cor dos cabelos (louros, castanhos, pretos)\n",
    " Idade (em anos)\n",
    "Faça um programa que leia os dados dos habitantes até que seja informado um valor de idade igual a -1. O\n",
    "programa deverá imprimir na tela o número de habitantes do sexo feminino cuja idade esteja entre 18 e 35 anos\n",
    "inclusive."
   ]
  },
  {
   "cell_type": "code",
   "execution_count": 8,
   "metadata": {},
   "outputs": [
    {
     "name": "stdout",
     "output_type": "stream",
     "text": [
      "digite seu sexo f\n",
      "digite a cor dos seus olhos castanhos\n",
      "digite a cor do seu cabelo castanhos\n",
      "digite sua idade 22\n",
      "digite seu sexo f\n",
      "digite a cor dos seus olhos azuis\n",
      "digite a cor do seu cabelo pretos\n",
      "digite sua idade -1\n",
      "A quantidade de pessoas com idade entre 18 e 35 é  1\n"
     ]
    }
   ],
   "source": [
    "sexo = ['f','m']\n",
    "cor_olhos = ['azuis','verdes','castanhos']\n",
    "cor_cabelos = ['louros','castanhos','pretos']\n",
    "idade = 0\n",
    "lista = []\n",
    "while (idade != -1):\n",
    "    sexo = input('digite seu sexo ')\n",
    "    cor_olhos = input('digite a cor dos seus olhos ')\n",
    "    cor_cabelos = input('digite a cor do seu cabelo ')\n",
    "    idade = int(input('digite sua idade '))\n",
    "    if (idade >= 18 and idade <=35):\n",
    "          lista.append(int(idade))            \n",
    "print('A quantidade de pessoas com idade entre 18 e 35 é ', len(lista))\n"
   ]
  },
  {
   "cell_type": "markdown",
   "metadata": {},
   "source": [
    "8) Um determinado material radioativo perde metade de sua massa a cada 50 segundos. Leia a massa inicial, em\n",
    "gramas, faça um programa que determine o tempo necessário para que essa massa se torne menor do que 0,5\n",
    "grama. Escreva a massa inicial, massa final e o tempo calculado. "
   ]
  },
  {
   "cell_type": "code",
   "execution_count": 1,
   "metadata": {},
   "outputs": [
    {
     "name": "stdout",
     "output_type": "stream",
     "text": [
      "digite a massa em gramas: 3\n",
      "a massa inicial é 3.0 a massa final é 0.375 e o tempo calculado é 1.5\n"
     ]
    }
   ],
   "source": [
    "massa = float(input('digite a massa em gramas: '))\n",
    "tempo = 0\n",
    "massa_digitada = massa\n",
    "cont = 0\n",
    "while (massa >= 0.50):\n",
    "    massa = massa / 2 \n",
    "    tempo += 0.50\n",
    "    cont = cont + 1\n",
    "print('a massa inicial é', massa_digitada,'a massa final é',massa,'e o tempo calculado é',tempo)"
   ]
  },
  {
   "cell_type": "markdown",
   "metadata": {},
   "source": [
    "9) Faça um programa que apresente menu, que permita ao usuário escolher a opção desejada,\n",
    "receba os dados necessários para executar a operação e mostre o resultado. "
   ]
  },
  {
   "cell_type": "code",
   "execution_count": 10,
   "metadata": {},
   "outputs": [
    {
     "name": "stdout",
     "output_type": "stream",
     "text": [
      "Menu de opções\n",
      " 1 Novo salário\n",
      " 2 Férias\n",
      " 3 Décimo terceiro\n",
      " 4 Sair\n",
      "1\n",
      "digite seu salario:700\n",
      "seu novo salario é 805.00\n"
     ]
    }
   ],
   "source": [
    "while True:\n",
    "    try:\n",
    "        opcao = int(input('Menu de opções\\n 1 Novo salário\\n 2 Férias\\n 3 Décimo terceiro\\n 4 Sair\\n'))\n",
    "        break\n",
    "    except ValueError:\n",
    "        print('digite uma opcao!')\n",
    "try:        \n",
    "    if opcao == 1:\n",
    "        try:\n",
    "            salario = float(input('digite seu salario:'))\n",
    "        except ValueError:\n",
    "            print('digite o valor do seu salario!') \n",
    "    \n",
    "        if salario <= 999.99:\n",
    "            salario += salario * 3 / 20\n",
    "            print('seu novo salario é {:.2f}'.format(salario))\n",
    "            \n",
    "        if salario >= 1000 and salario <=2000:\n",
    "            salario = salario + (salario / 10)\n",
    "            print('seu novo salario é {:.2f}'.format(salario))\n",
    "            \n",
    "        if salario > 2000:\n",
    "            salario += salario * 0.05\n",
    "            print('seu novo salario é', salario)        \n",
    "    elif (opcao == 2):\n",
    "        try:\n",
    "            salario = float(input('digite seu salario:'))\n",
    "        except ValueError:\n",
    "            print('digite o valor do seu salario!')\n",
    "        salario = salario + (salario / 3)\n",
    "        print('seu salario de ferias é {:.2f}'.format(salario))\n",
    "        \n",
    "    elif (opcao == 3):\n",
    "        try:\n",
    "            salario = float(input('digite seu salario:'))\n",
    "        except ValueError:\n",
    "            print('digite o valor do seu salario!')\n",
    "        mes = float(input('digite quantos meses voce esta na empresa '))\n",
    "        \n",
    "        if (mes > 12):\n",
    "            print('problemas ao calcular, procure o RH!')\n",
    "        else:\n",
    "            salario += salario * mes / 12\n",
    "            print('seu salario de ferias é {:.2f}'.format(salario))\n",
    "    elif (opcao == 4):\n",
    "        print('até a proxima!')\n",
    "        quit   \n",
    "except ValueError:\n",
    "    print('opcao invalida!')"
   ]
  },
  {
   "cell_type": "code",
   "execution_count": null,
   "metadata": {},
   "outputs": [],
   "source": []
  },
  {
   "cell_type": "code",
   "execution_count": null,
   "metadata": {},
   "outputs": [],
   "source": []
  }
 ],
 "metadata": {
  "kernelspec": {
   "display_name": "Python 3",
   "language": "python",
   "name": "python3"
  },
  "language_info": {
   "codemirror_mode": {
    "name": "ipython",
    "version": 3
   },
   "file_extension": ".py",
   "mimetype": "text/x-python",
   "name": "python",
   "nbconvert_exporter": "python",
   "pygments_lexer": "ipython3",
   "version": "3.7.6"
  }
 },
 "nbformat": 4,
 "nbformat_minor": 4
}
